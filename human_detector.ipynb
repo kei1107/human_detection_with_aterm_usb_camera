{
  "cells": [
    {
      "cell_type": "code",
      "execution_count": 1,
      "metadata": {
        "pycharm": {
          "is_executing": false
        }
      },
      "outputs": [
        {
          "data": {
            "text/html": [
              "\u003cstyle\u003e.container { width:100% !important; }\u003c/style\u003e"
            ],
            "text/plain": [
              "\u003cIPython.core.display.HTML object\u003e"
            ]
          },
          "metadata": {},
          "output_type": "display_data"
        }
      ],
      "source": [
        "# Jupyter Notebook settings\n",
        "%matplotlib inline\n",
        "from IPython.core.display import display, HTML\n",
        "display(HTML(\"\u003cstyle\u003e.container { width:100% !important; }\u003c/style\u003e\"))"
      ]
    },
    {
      "cell_type": "code",
      "execution_count": 2,
      "metadata": {
        "pycharm": {
          "is_executing": false
        }
      },
      "outputs": [
        {
          "name": "stderr",
          "output_type": "stream",
          "text": [
            "Using TensorFlow backend.\n",
            "C:\\Users\\kimura\\Anaconda3\\lib\\site-packages\\tensorflow\\python\\framework\\dtypes.py:516: FutureWarning: Passing (type, 1) or \u00271type\u0027 as a synonym of type is deprecated; in a future version of numpy, it will be understood as (type, (1,)) / \u0027(1,)type\u0027.\n",
            "  _np_qint8 \u003d np.dtype([(\"qint8\", np.int8, 1)])\n",
            "C:\\Users\\kimura\\Anaconda3\\lib\\site-packages\\tensorflow\\python\\framework\\dtypes.py:517: FutureWarning: Passing (type, 1) or \u00271type\u0027 as a synonym of type is deprecated; in a future version of numpy, it will be understood as (type, (1,)) / \u0027(1,)type\u0027.\n",
            "  _np_quint8 \u003d np.dtype([(\"quint8\", np.uint8, 1)])\n",
            "C:\\Users\\kimura\\Anaconda3\\lib\\site-packages\\tensorflow\\python\\framework\\dtypes.py:518: FutureWarning: Passing (type, 1) or \u00271type\u0027 as a synonym of type is deprecated; in a future version of numpy, it will be understood as (type, (1,)) / \u0027(1,)type\u0027.\n",
            "  _np_qint16 \u003d np.dtype([(\"qint16\", np.int16, 1)])\n",
            "C:\\Users\\kimura\\Anaconda3\\lib\\site-packages\\tensorflow\\python\\framework\\dtypes.py:519: FutureWarning: Passing (type, 1) or \u00271type\u0027 as a synonym of type is deprecated; in a future version of numpy, it will be understood as (type, (1,)) / \u0027(1,)type\u0027.\n",
            "  _np_quint16 \u003d np.dtype([(\"quint16\", np.uint16, 1)])\n",
            "C:\\Users\\kimura\\Anaconda3\\lib\\site-packages\\tensorflow\\python\\framework\\dtypes.py:520: FutureWarning: Passing (type, 1) or \u00271type\u0027 as a synonym of type is deprecated; in a future version of numpy, it will be understood as (type, (1,)) / \u0027(1,)type\u0027.\n",
            "  _np_qint32 \u003d np.dtype([(\"qint32\", np.int32, 1)])\n",
            "C:\\Users\\kimura\\Anaconda3\\lib\\site-packages\\tensorflow\\python\\framework\\dtypes.py:525: FutureWarning: Passing (type, 1) or \u00271type\u0027 as a synonym of type is deprecated; in a future version of numpy, it will be understood as (type, (1,)) / \u0027(1,)type\u0027.\n",
            "  np_resource \u003d np.dtype([(\"resource\", np.ubyte, 1)])\n",
            "C:\\Users\\kimura\\Anaconda3\\lib\\site-packages\\tensorboard\\compat\\tensorflow_stub\\dtypes.py:541: FutureWarning: Passing (type, 1) or \u00271type\u0027 as a synonym of type is deprecated; in a future version of numpy, it will be understood as (type, (1,)) / \u0027(1,)type\u0027.\n",
            "  _np_qint8 \u003d np.dtype([(\"qint8\", np.int8, 1)])\n",
            "C:\\Users\\kimura\\Anaconda3\\lib\\site-packages\\tensorboard\\compat\\tensorflow_stub\\dtypes.py:542: FutureWarning: Passing (type, 1) or \u00271type\u0027 as a synonym of type is deprecated; in a future version of numpy, it will be understood as (type, (1,)) / \u0027(1,)type\u0027.\n",
            "  _np_quint8 \u003d np.dtype([(\"quint8\", np.uint8, 1)])\n",
            "C:\\Users\\kimura\\Anaconda3\\lib\\site-packages\\tensorboard\\compat\\tensorflow_stub\\dtypes.py:543: FutureWarning: Passing (type, 1) or \u00271type\u0027 as a synonym of type is deprecated; in a future version of numpy, it will be understood as (type, (1,)) / \u0027(1,)type\u0027.\n",
            "  _np_qint16 \u003d np.dtype([(\"qint16\", np.int16, 1)])\n",
            "C:\\Users\\kimura\\Anaconda3\\lib\\site-packages\\tensorboard\\compat\\tensorflow_stub\\dtypes.py:544: FutureWarning: Passing (type, 1) or \u00271type\u0027 as a synonym of type is deprecated; in a future version of numpy, it will be understood as (type, (1,)) / \u0027(1,)type\u0027.\n",
            "  _np_quint16 \u003d np.dtype([(\"quint16\", np.uint16, 1)])\n",
            "C:\\Users\\kimura\\Anaconda3\\lib\\site-packages\\tensorboard\\compat\\tensorflow_stub\\dtypes.py:545: FutureWarning: Passing (type, 1) or \u00271type\u0027 as a synonym of type is deprecated; in a future version of numpy, it will be understood as (type, (1,)) / \u0027(1,)type\u0027.\n",
            "  _np_qint32 \u003d np.dtype([(\"qint32\", np.int32, 1)])\n",
            "C:\\Users\\kimura\\Anaconda3\\lib\\site-packages\\tensorboard\\compat\\tensorflow_stub\\dtypes.py:550: FutureWarning: Passing (type, 1) or \u00271type\u0027 as a synonym of type is deprecated; in a future version of numpy, it will be understood as (type, (1,)) / \u0027(1,)type\u0027.\n",
            "  np_resource \u003d np.dtype([(\"resource\", np.ubyte, 1)])\n"
          ]
        }
      ],
      "source": "import base64\nimport os\nimport shutil\nimport requests\nfrom selenium import webdriver\nfrom selenium.webdriver.chrome.options import Options\nimport src\nimport sys\nimport time\nfrom datetime import datetime\nimport pytz\nfrom io import BytesIO\nfrom PIL import Image\n\nfrom keras.applications.imagenet_utils import preprocess_input\nfrom keras.backend.tensorflow_backend import set_session\nfrom keras.preprocessing import image\nimport numpy as np\nimport tensorflow as tf\n\nfrom ssd import SSD300\nfrom ssd_utils import BBoxUtility\n\ndef save_image(src, file_save_path):\n    # Base64エンコードされた画像をデコードして保存する。\n    if \"base64,\" in src:\n        with open(file_save_path, \"wb\") as f:\n            f.write(base64.b64decode(src.split(\",\")[1]))\n\n    # 画像のURLから画像を保存する。\n    else:\n        res \u003d requests.get(src, stream\u003dTrue)\n        with open(file_save_path, \"wb\") as f:\n            shutil.copyfileobj(res.raw, f)"
    },
    {
      "cell_type": "code",
      "execution_count": 3,
      "metadata": {
        "pycharm": {
          "is_executing": false
        }
      },
      "outputs": [
        {
          "name": "stderr",
          "output_type": "stream",
          "text": [
            "WARNING: Logging before flag parsing goes to stderr.\n",
            "W0109 11:13:39.965100 12096 deprecation_wrapper.py:119] From C:\\Users\\kimura\\Anaconda3\\lib\\site-packages\\keras\\backend\\tensorflow_backend.py:74: The name tf.get_default_graph is deprecated. Please use tf.compat.v1.get_default_graph instead.\n",
            "\n",
            "W0109 11:13:39.967098 12096 deprecation_wrapper.py:119] From C:\\Users\\kimura\\Anaconda3\\lib\\site-packages\\keras\\backend\\tensorflow_backend.py:517: The name tf.placeholder is deprecated. Please use tf.compat.v1.placeholder instead.\n",
            "\n",
            "W0109 11:13:39.969094 12096 deprecation_wrapper.py:119] From C:\\Users\\kimura\\Anaconda3\\lib\\site-packages\\keras\\backend\\tensorflow_backend.py:4138: The name tf.random_uniform is deprecated. Please use tf.random.uniform instead.\n",
            "\n",
            "W0109 11:13:39.994026 12096 deprecation_wrapper.py:119] From C:\\Users\\kimura\\Anaconda3\\lib\\site-packages\\keras\\backend\\tensorflow_backend.py:3976: The name tf.nn.max_pool is deprecated. Please use tf.nn.max_pool2d instead.\n",
            "\n",
            "W0109 11:13:40.446613 12096 deprecation_wrapper.py:119] From C:\\Users\\kimura\\Anaconda3\\lib\\site-packages\\keras\\backend\\tensorflow_backend.py:174: The name tf.get_default_session is deprecated. Please use tf.compat.v1.get_default_session instead.\n",
            "\n",
            "W0109 11:13:40.446613 12096 deprecation_wrapper.py:119] From C:\\Users\\kimura\\Anaconda3\\lib\\site-packages\\keras\\backend\\tensorflow_backend.py:190: The name tf.global_variables is deprecated. Please use tf.compat.v1.global_variables instead.\n",
            "\n"
          ]
        }
      ],
      "source": [
        "# Main\n",
        "# logger setting\n",
        "logger \u003d src.Setup_Logger.Setup_Logger()\n",
        "np.set_printoptions(suppress\u003dTrue)\n",
        "# SSD setting\n",
        "config \u003d tf.ConfigProto()\n",
        "config.gpu_options.per_process_gpu_memory_fraction \u003d 0.45\n",
        "set_session(tf.Session(config\u003dconfig))\n",
        "voc_classes \u003d [\u0027Aeroplane\u0027, \u0027Bicycle\u0027, \u0027Bird\u0027, \u0027Boat\u0027, \u0027Bottle\u0027,\n",
        "               \u0027Bus\u0027, \u0027Car\u0027, \u0027Cat\u0027, \u0027Chair\u0027, \u0027Cow\u0027, \u0027Diningtable\u0027,\n",
        "               \u0027Dog\u0027, \u0027Horse\u0027, \u0027Motorbike\u0027, \u0027Person\u0027, \u0027Pottedplant\u0027,\n",
        "               \u0027Sheep\u0027, \u0027Sofa\u0027, \u0027Train\u0027, \u0027Tvmonitor\u0027]\n",
        "NUM_CLASSES \u003d len(voc_classes) + 1\n",
        "input_shape \u003d (300, 300, 3)\n",
        "model \u003d SSD300(input_shape, num_classes\u003dNUM_CLASSES)\n",
        "model.load_weights(\u0027weights/weights_SSD300.hdf5\u0027, by_name\u003dTrue)\n",
        "bbox_util \u003d BBoxUtility(NUM_CLASSES)"
      ]
    },
    {
      "cell_type": "code",
      "execution_count": 4,
      "metadata": {
        "pycharm": {
          "is_executing": false
        }
      },
      "outputs": [],
      "source": [
        "# Chronium setting\n",
        "user,pw,ip \u003d src.Setup_Config.Setup_Config(logger\u003dlogger)\n",
        "main_url \u003d \u0027http://\u0027 + user + \u0027:\u0027 + pw + \u0027@\u0027 + ip + \u0027:15790\u0027\n",
        "options \u003d Options()\n",
        "options.binary_location \u003d None\n",
        "if os.name \u003d\u003d \u0027posix\u0027:\n",
        "    options.binary_location \u003d \u0027/Applications/Google Chrome.app/Contents/MacOS/Google Chrome\u0027\n",
        "elif os.name \u003d\u003d \u0027nt\u0027:\n",
        "    options.binary_location \u003d \u0027C:\\\\Program Files (x86)\\\\Google\\\\Chrome\\\\Application\\\\chrome.exe\u0027"
      ]
    },
    {
      "cell_type": "code",
      "execution_count": 5,
      "metadata": {
        "pycharm": {
          "is_executing": false
        },
        "scrolled": false
      },
      "outputs": [
        {
          "name": "stderr",
          "output_type": "stream",
          "text": [
            "2020-01-09 11:13:57,758:66:INFO:Error occured!\n",
            "I0109 11:13:57.758676 12096 \u003cipython-input-5-3335ba21dfda\u003e:66] Error occured!\n",
            "2020-01-09 11:13:57,758:67:ERROR:Message: session not created: This version of ChromeDriver only supports Chrome version 74\n",
            "  (Driver info: chromedriver\u003d74.0.3729.6 (255758eccf3d244491b8a1317aa76e1ce10d57e9-refs/branch-heads/3729@{#29}),platform\u003dWindows NT 10.0.18362 x86_64)\n",
            "Traceback (most recent call last):\n",
            "  File \"\u003cipython-input-5-3335ba21dfda\u003e\", line 6, in \u003cmodule\u003e\n",
            "    driver \u003d webdriver.Chrome(options\u003doptions)\n",
            "  File \"C:\\Users\\kimura\\Anaconda3\\lib\\site-packages\\selenium\\webdriver\\chrome\\webdriver.py\", line 81, in __init__\n",
            "    desired_capabilities\u003ddesired_capabilities)\n",
            "  File \"C:\\Users\\kimura\\Anaconda3\\lib\\site-packages\\selenium\\webdriver\\remote\\webdriver.py\", line 157, in __init__\n",
            "    self.start_session(capabilities, browser_profile)\n",
            "  File \"C:\\Users\\kimura\\Anaconda3\\lib\\site-packages\\selenium\\webdriver\\remote\\webdriver.py\", line 252, in start_session\n",
            "    response \u003d self.execute(Command.NEW_SESSION, parameters)\n",
            "  File \"C:\\Users\\kimura\\Anaconda3\\lib\\site-packages\\selenium\\webdriver\\remote\\webdriver.py\", line 321, in execute\n",
            "    self.error_handler.check_response(response)\n",
            "  File \"C:\\Users\\kimura\\Anaconda3\\lib\\site-packages\\selenium\\webdriver\\remote\\errorhandler.py\", line 242, in check_response\n",
            "    raise exception_class(message, screen, stacktrace)\n",
            "selenium.common.exceptions.SessionNotCreatedException: Message: session not created: This version of ChromeDriver only supports Chrome version 74\n",
            "  (Driver info: chromedriver\u003d74.0.3729.6 (255758eccf3d244491b8a1317aa76e1ce10d57e9-refs/branch-heads/3729@{#29}),platform\u003dWindows NT 10.0.18362 x86_64)\n",
            "\n",
            "E0109 11:13:57.758676 12096 \u003cipython-input-5-3335ba21dfda\u003e:67] Message: session not created: This version of ChromeDriver only supports Chrome version 74\n",
            "  (Driver info: chromedriver\u003d74.0.3729.6 (255758eccf3d244491b8a1317aa76e1ce10d57e9-refs/branch-heads/3729@{#29}),platform\u003dWindows NT 10.0.18362 x86_64)\n",
            "Traceback (most recent call last):\n",
            "  File \"\u003cipython-input-5-3335ba21dfda\u003e\", line 6, in \u003cmodule\u003e\n",
            "    driver \u003d webdriver.Chrome(options\u003doptions)\n",
            "  File \"C:\\Users\\kimura\\Anaconda3\\lib\\site-packages\\selenium\\webdriver\\chrome\\webdriver.py\", line 81, in __init__\n",
            "    desired_capabilities\u003ddesired_capabilities)\n",
            "  File \"C:\\Users\\kimura\\Anaconda3\\lib\\site-packages\\selenium\\webdriver\\remote\\webdriver.py\", line 157, in __init__\n",
            "    self.start_session(capabilities, browser_profile)\n",
            "  File \"C:\\Users\\kimura\\Anaconda3\\lib\\site-packages\\selenium\\webdriver\\remote\\webdriver.py\", line 252, in start_session\n",
            "    response \u003d self.execute(Command.NEW_SESSION, parameters)\n",
            "  File \"C:\\Users\\kimura\\Anaconda3\\lib\\site-packages\\selenium\\webdriver\\remote\\webdriver.py\", line 321, in execute\n",
            "    self.error_handler.check_response(response)\n",
            "  File \"C:\\Users\\kimura\\Anaconda3\\lib\\site-packages\\selenium\\webdriver\\remote\\errorhandler.py\", line 242, in check_response\n",
            "    raise exception_class(message, screen, stacktrace)\n",
            "selenium.common.exceptions.SessionNotCreatedException: Message: session not created: This version of ChromeDriver only supports Chrome version 74\n",
            "  (Driver info: chromedriver\u003d74.0.3729.6 (255758eccf3d244491b8a1317aa76e1ce10d57e9-refs/branch-heads/3729@{#29}),platform\u003dWindows NT 10.0.18362 x86_64)\n",
            "\n"
          ]
        },
        {
          "ename": "SystemExit",
          "evalue": "",
          "output_type": "error",
          "traceback": [
            "An exception has occurred, use %tb to see the full traceback.\n",
            "\u001b[1;31mSystemExit\u001b[0m\n"
          ]
        },
        {
          "name": "stderr",
          "output_type": "stream",
          "text": [
            "C:\\Users\\kimura\\Anaconda3\\lib\\site-packages\\IPython\\core\\interactiveshell.py:3275: UserWarning: To exit: use \u0027exit\u0027, \u0027quit\u0027, or Ctrl-D.\n",
            "  warn(\"To exit: use \u0027exit\u0027, \u0027quit\u0027, or Ctrl-D.\", stacklevel\u003d1)\n"
          ]
        }
      ],
      "source": "if options.binary_location is None:\n    logger.info(\u0027Support : Windows , OSX\u0027)\n    sys.exit()\ntry:\n    options.add_argument(\u0027--headless\u0027)\n    driver \u003d webdriver.Chrome(options\u003doptions)\n\n    driver.get(main_url)\n    logger.info(\u0027Accessing\u0027)\n\n    start_button \u003d driver.find_element_by_id(\u0027VMG_PRE_START_BTN\u0027)\n    start_button.click()\n    \n    print(\"Start Detector\")\n    while True:        \n        try:\n            BUF_UVCCAM2 \u003d driver.find_element_by_id(\u0027BUF_UVCCAM2\u0027)\n            img_url \u003d BUF_UVCCAM2.get_attribute(\u0027src\u0027)        \n\n            img_response \u003d requests.get(img_url)\n            output_img \u003d Image.open(BytesIO(img_response.content))\n            \n            img \u003d output_img.copy()\n            img \u003d img.resize((300,300))\n            img \u003d image.img_to_array(img)\n            \n            inputs \u003d []\n            inputs.append(img.copy())\n        except Exception as e:\n            continue\n        \n        \n        inputs \u003d preprocess_input(np.array(inputs))\n        preds \u003d model.predict(inputs, batch_size\u003d1)\n        results \u003d bbox_util.detection_out(preds)\n\n        # Parse the outputs.\n        det_label \u003d results[0][:, 0]\n        det_conf \u003d results[0][:, 1]\n\n        cand_size \u003d len(det_label)\n        isPerson \u003d False\n        \n        for i in range(cand_size):\n            if det_conf[i] \u003c 0.9:\n                continue\n            else:\n                # Person is 15\n                if int(det_label[i]) \u003d\u003d 15:\n                    isPerson \u003d True\n                    break\n                    \n        if isPerson:\n            # time de hozon \n            now_time_str \u003d datetime.now(pytz.timezone(\u0027Asia/Tokyo\u0027)).strftime(\u0027%Y%m%d_%H%M%S%f\u0027)[:-3]\n            # print(\"Person detect :\",now_time_str)\n            \n            try:\n                image.save_img(\"./output/\" +now_time_str + \u0027.jpg\u0027, output_img)\n            except Exception as e:\n                continue\n        time.sleep(0.5)\n        \nexcept Exception as e:\n    logger.info(\u0027Web driver Error occured!\u0027)\n    logger.exception(e)\n    sys.exit()"
    }
  ],
  "metadata": {
    "kernelspec": {
      "display_name": "Python 3",
      "language": "python",
      "name": "python3"
    },
    "language_info": {
      "codemirror_mode": {
        "name": "ipython",
        "version": 3
      },
      "file_extension": ".py",
      "mimetype": "text/x-python",
      "name": "python",
      "nbconvert_exporter": "python",
      "pygments_lexer": "ipython3",
      "version": "3.7.1"
    }
  },
  "nbformat": 4,
  "nbformat_minor": 2
}